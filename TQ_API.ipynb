{
 "cells": [
  {
   "cell_type": "code",
   "execution_count": 1,
   "metadata": {},
   "outputs": [],
   "source": [
    "# pip install tqsdk"
   ]
  },
  {
   "cell_type": "code",
   "execution_count": 2,
   "metadata": {},
   "outputs": [
    {
     "name": "stderr",
     "output_type": "stream",
     "text": [
      "在使用天勤量化之前，默认您已经知晓并同意以下免责条款，如果不同意请立即停止使用：https://www.shinnytech.com/blog/disclaimer/\n"
     ]
    }
   ],
   "source": [
    "import tqsdk"
   ]
  },
  {
   "cell_type": "code",
   "execution_count": 3,
   "metadata": {},
   "outputs": [],
   "source": [
    "import json\n",
    "import time\n",
    "from tqsdk import TqApi, TargetPosTask\n",
    "from tqsdk.ta import ATR"
   ]
  },
  {
   "cell_type": "code",
   "execution_count": 4,
   "metadata": {},
   "outputs": [],
   "source": [
    "class Turtle:\n",
    "    def __init__(self, symbol, account=None, donchian_channel_open_position=20, donchian_channel_stop_profit=10,\n",
    "                 atr_day_length=20, max_risk_ratio=0.5):\n",
    "        self.account = account  # 交易账号\n",
    "        self.symbol = symbol  # 合约代码\n",
    "        self.donchian_channel_open_position = donchian_channel_open_position  # 唐奇安通道的天数周期(开仓)\n",
    "        self.donchian_channel_stop_profit = donchian_channel_stop_profit  # 唐奇安通道的天数周期(止盈)\n",
    "        self.atr_day_length = atr_day_length  # ATR计算所用天数\n",
    "        self.max_risk_ratio = max_risk_ratio  # 最高风险度\n",
    "        self.state = {\n",
    "            \"position\": 0,  # 本策略净持仓数(正数表示多头，负数表示空头，0表示空仓)\n",
    "            \"last_price\": float(\"nan\"),  # 上次调仓价\n",
    "        }\n",
    "\n",
    "        self.n = 0  # 平均真实波幅(N值)\n",
    "        self.unit = 0  # 买卖单位\n",
    "        self.donchian_channel_high = 0  # 唐奇安通道上轨\n",
    "        self.donchian_channel_low = 0  # 唐奇安通道下轨\n",
    "\n",
    "        self.api = TqApi(self.account)\n",
    "        self.quote = self.api.get_quote(self.symbol)\n",
    "        # 由于ATR是路径依赖函数，因此使用更长的数据序列进行计算以便使其值稳定下来\n",
    "        kline_length = max(donchian_channel_open_position + 1, donchian_channel_stop_profit + 1, atr_day_length * 5)\n",
    "        self.klines = self.api.get_kline_serial(self.symbol, 24 * 60 * 60, data_length=kline_length)\n",
    "        self.account = self.api.get_account()\n",
    "        self.target_pos = TargetPosTask(self.api, self.symbol)\n",
    "\n",
    "    def recalc_paramter(self):\n",
    "        # 平均真实波幅(N值)\n",
    "        self.n = ATR(self.klines, self.atr_day_length)[\"atr\"].iloc[-1]\n",
    "        # 买卖单位\n",
    "        self.unit = int((self.account.balance * 0.01) / (self.quote.volume_multiple * self.n))\n",
    "        # 唐奇安通道上轨：前N个交易日的最高价\n",
    "        self.donchian_channel_high = max(self.klines.high[-self.donchian_channel_open_position - 1:-1])\n",
    "        # 唐奇安通道下轨：前N个交易日的最低价\n",
    "        self.donchian_channel_low = min(self.klines.low[-self.donchian_channel_open_position - 1:-1])\n",
    "        print(\"唐其安通道上下轨: %f, %f\" % (self.donchian_channel_high, self.donchian_channel_low))\n",
    "        return True\n",
    "\n",
    "    def set_position(self, pos):\n",
    "        self.state[\"position\"] = pos\n",
    "        self.state[\"last_price\"] = self.quote[\"last_price\"]\n",
    "        self.target_pos.set_target_volume(self.state[\"position\"])\n",
    "\n",
    "    def try_open(self):\n",
    "        \"\"\"开仓策略\"\"\"\n",
    "        while self.state[\"position\"] == 0:\n",
    "            self.api.wait_update()\n",
    "            if self.api.is_changing(self.klines.iloc[-1], \"datetime\"):  # 如果产生新k线,则重新计算唐奇安通道及买卖单位\n",
    "                self.recalc_paramter()\n",
    "            if self.api.is_changing(self.quote, \"last_price\"):\n",
    "                print(\"最新价: %f\" % self.quote.last_price)\n",
    "                if self.quote.last_price > self.donchian_channel_high:  # 当前价>唐奇安通道上轨，买入1个Unit；(持多仓)\n",
    "                    print(\"当前价>唐奇安通道上轨，买入1个Unit(持多仓): %d 手\" % self.unit)\n",
    "                    self.set_position(self.state[\"position\"] + self.unit)\n",
    "                elif self.quote.last_price < self.donchian_channel_low:  # 当前价<唐奇安通道下轨，卖出1个Unit；(持空仓)\n",
    "                    print(\"当前价<唐奇安通道下轨，卖出1个Unit(持空仓): %d 手\" % self.unit)\n",
    "                    self.set_position(self.state[\"position\"] - self.unit)\n",
    "\n",
    "    def try_close(self):\n",
    "        \"\"\"交易策略\"\"\"\n",
    "        while self.state[\"position\"] != 0:\n",
    "            self.api.wait_update()\n",
    "            if self.api.is_changing(self.quote, \"last_price\"):\n",
    "                print(\"最新价: \", self.quote.last_price)\n",
    "                if self.state[\"position\"] > 0:  # 持多单\n",
    "                    # 加仓策略: 如果是多仓且行情最新价在上一次建仓（或者加仓）的基础上又上涨了0.5N，就再加一个Unit的多仓,并且风险度在设定范围内(以防爆仓)\n",
    "                    if self.quote.last_price >= self.state[\n",
    "                        \"last_price\"] + 0.5 * self.n and self.account.risk_ratio <= self.max_risk_ratio:\n",
    "                        print(\"加仓:加1个Unit的多仓\")\n",
    "                        self.set_position(self.state[\"position\"] + self.unit)\n",
    "                    # 止损策略: 如果是多仓且行情最新价在上一次建仓（或者加仓）的基础上又下跌了2N，就卖出全部头寸止损\n",
    "                    elif self.quote.last_price <= self.state[\"last_price\"] - 2 * self.n:\n",
    "                        print(\"止损:卖出全部头寸\")\n",
    "                        self.set_position(0)\n",
    "                    # 止盈策略: 如果是多仓且行情最新价跌破了10日唐奇安通道的下轨，就清空所有头寸结束策略,离场\n",
    "                    if self.quote.last_price <= min(self.klines.low[-self.donchian_channel_stop_profit - 1:-1]):\n",
    "                        print(\"止盈:清空所有头寸结束策略,离场\")\n",
    "                        self.set_position(0)\n",
    "\n",
    "                elif self.state[\"position\"] < 0:  # 持空单\n",
    "                    # 加仓策略: 如果是空仓且行情最新价在上一次建仓（或者加仓）的基础上又下跌了0.5N，就再加一个Unit的空仓,并且风险度在设定范围内(以防爆仓)\n",
    "                    if self.quote.last_price <= self.state[\n",
    "                        \"last_price\"] - 0.5 * self.n and self.account.risk_ratio <= self.max_risk_ratio:\n",
    "                        print(\"加仓:加1个Unit的空仓\")\n",
    "                        self.set_position(self.state[\"position\"] - self.unit)\n",
    "                    # 止损策略: 如果是空仓且行情最新价在上一次建仓（或者加仓）的基础上又上涨了2N，就平仓止损\n",
    "                    elif self.quote.last_price >= self.state[\"last_price\"] + 2 * self.n:\n",
    "                        print(\"止损:卖出全部头寸\")\n",
    "                        self.set_position(0)\n",
    "                    # 止盈策略: 如果是空仓且行情最新价升破了10日唐奇安通道的上轨，就清空所有头寸结束策略,离场\n",
    "                    if self.quote.last_price >= max(self.klines.high[-self.donchian_channel_stop_profit - 1:-1]):\n",
    "                        print(\"止盈:清空所有头寸结束策略,离场\")\n",
    "                        self.set_position(0)\n",
    "\n",
    "    def strategy(self):\n",
    "        \"\"\"海龟策略\"\"\"\n",
    "        print(\"等待K线及账户数据...\")\n",
    "        deadline = time.time() + 5\n",
    "        while not self.recalc_paramter():\n",
    "            if not self.api.wait_update(deadline=deadline):\n",
    "                raise Exception(\"获取数据失败，请确认行情连接正常并已经登录交易账户\")\n",
    "        while True:\n",
    "            self.try_open()\n",
    "            self.try_close()\n"
   ]
  },
  {
   "cell_type": "code",
   "execution_count": 5,
   "metadata": {},
   "outputs": [
    {
     "ename": "Exception",
     "evalue": "TqSdk 使用了 python3 的原生协程和异步通讯库 asyncio，您所使用的 IDE 不支持 asyncio, 请使用 pycharm 或其它支持 asyncio 的 IDE",
     "output_type": "error",
     "traceback": [
      "\u001b[0;31m---------------------------------------------------------------------------\u001b[0m",
      "\u001b[0;31mException\u001b[0m                                 Traceback (most recent call last)",
      "\u001b[0;32m~/anaconda3/envs/py36/lib/python3.6/site-packages/tqsdk/api.py\u001b[0m in \u001b[0;36m__init__\u001b[0;34m(self, account, auth, url, backtest, web_gui, debug, loop, _stock, _ins_url, _md_url, _td_url)\u001b[0m\n\u001b[1;32m    226\u001b[0m                     \u001b[0;32mor\u001b[0m \u001b[0mself\u001b[0m\u001b[0;34m.\u001b[0m\u001b[0m_data\u001b[0m\u001b[0;34m.\u001b[0m\u001b[0mget\u001b[0m\u001b[0;34m(\u001b[0m\u001b[0;34m\"trade\"\u001b[0m\u001b[0;34m,\u001b[0m \u001b[0;34m{\u001b[0m\u001b[0;34m}\u001b[0m\u001b[0;34m)\u001b[0m\u001b[0;34m.\u001b[0m\u001b[0mget\u001b[0m\u001b[0;34m(\u001b[0m\u001b[0mself\u001b[0m\u001b[0;34m.\u001b[0m\u001b[0m_account\u001b[0m\u001b[0;34m.\u001b[0m\u001b[0m_account_id\u001b[0m\u001b[0;34m,\u001b[0m \u001b[0;34m{\u001b[0m\u001b[0;34m}\u001b[0m\u001b[0;34m)\u001b[0m\u001b[0;34m.\u001b[0m\u001b[0mget\u001b[0m\u001b[0;34m(\u001b[0m\u001b[0;34m\"trade_more_data\"\u001b[0m\u001b[0;34m,\u001b[0m \u001b[0;32mTrue\u001b[0m\u001b[0;34m)\u001b[0m\u001b[0;34m:\u001b[0m\u001b[0;34m\u001b[0m\u001b[0;34m\u001b[0m\u001b[0m\n\u001b[0;32m--> 227\u001b[0;31m                 \u001b[0;32mif\u001b[0m \u001b[0;32mnot\u001b[0m \u001b[0mself\u001b[0m\u001b[0;34m.\u001b[0m\u001b[0mwait_update\u001b[0m\u001b[0;34m(\u001b[0m\u001b[0mdeadline\u001b[0m\u001b[0;34m=\u001b[0m\u001b[0mdeadline\u001b[0m\u001b[0;34m)\u001b[0m\u001b[0;34m:\u001b[0m  \u001b[0;31m# 等待连接成功并收取截面数据\u001b[0m\u001b[0;34m\u001b[0m\u001b[0;34m\u001b[0m\u001b[0m\n\u001b[0m\u001b[1;32m    228\u001b[0m                     \u001b[0;32mraise\u001b[0m \u001b[0mException\u001b[0m\u001b[0;34m(\u001b[0m\u001b[0;34m\"接收数据超时，请检查客户端及网络是否正常\"\u001b[0m\u001b[0;34m)\u001b[0m\u001b[0;34m\u001b[0m\u001b[0;34m\u001b[0m\u001b[0m\n",
      "\u001b[0;32m~/anaconda3/envs/py36/lib/python3.6/site-packages/tqsdk/api.py\u001b[0m in \u001b[0;36mwait_update\u001b[0;34m(self, deadline)\u001b[0m\n\u001b[1;32m    861\u001b[0m             raise Exception(\n\u001b[0;32m--> 862\u001b[0;31m                 \"TqSdk 使用了 python3 的原生协程和异步通讯库 asyncio，您所使用的 IDE 不支持 asyncio, 请使用 pycharm 或其它支持 asyncio 的 IDE\")\n\u001b[0m\u001b[1;32m    863\u001b[0m         \u001b[0mself\u001b[0m\u001b[0;34m.\u001b[0m\u001b[0m_wait_timeout\u001b[0m \u001b[0;34m=\u001b[0m \u001b[0;32mFalse\u001b[0m\u001b[0;34m\u001b[0m\u001b[0;34m\u001b[0m\u001b[0m\n",
      "\u001b[0;31mException\u001b[0m: TqSdk 使用了 python3 的原生协程和异步通讯库 asyncio，您所使用的 IDE 不支持 asyncio, 请使用 pycharm 或其它支持 asyncio 的 IDE",
      "\nDuring handling of the above exception, another exception occurred:\n",
      "\u001b[0;31mException\u001b[0m                                 Traceback (most recent call last)",
      "\u001b[0;32m<ipython-input-5-49681e2bda9f>\u001b[0m in \u001b[0;36m<module>\u001b[0;34m\u001b[0m\n\u001b[0;32m----> 1\u001b[0;31m \u001b[0mturtle\u001b[0m \u001b[0;34m=\u001b[0m \u001b[0mTurtle\u001b[0m\u001b[0;34m(\u001b[0m\u001b[0;34m\"SHFE.au2006\"\u001b[0m\u001b[0;34m)\u001b[0m\u001b[0;34m\u001b[0m\u001b[0;34m\u001b[0m\u001b[0m\n\u001b[0m",
      "\u001b[0;32m<ipython-input-4-c5ba0a29c947>\u001b[0m in \u001b[0;36m__init__\u001b[0;34m(self, symbol, account, donchian_channel_open_position, donchian_channel_stop_profit, atr_day_length, max_risk_ratio)\u001b[0m\n\u001b[1;32m     18\u001b[0m         \u001b[0mself\u001b[0m\u001b[0;34m.\u001b[0m\u001b[0mdonchian_channel_low\u001b[0m \u001b[0;34m=\u001b[0m \u001b[0;36m0\u001b[0m  \u001b[0;31m# 唐奇安通道下轨\u001b[0m\u001b[0;34m\u001b[0m\u001b[0;34m\u001b[0m\u001b[0m\n\u001b[1;32m     19\u001b[0m \u001b[0;34m\u001b[0m\u001b[0m\n\u001b[0;32m---> 20\u001b[0;31m         \u001b[0mself\u001b[0m\u001b[0;34m.\u001b[0m\u001b[0mapi\u001b[0m \u001b[0;34m=\u001b[0m \u001b[0mTqApi\u001b[0m\u001b[0;34m(\u001b[0m\u001b[0mself\u001b[0m\u001b[0;34m.\u001b[0m\u001b[0maccount\u001b[0m\u001b[0;34m)\u001b[0m\u001b[0;34m\u001b[0m\u001b[0;34m\u001b[0m\u001b[0m\n\u001b[0m\u001b[1;32m     21\u001b[0m         \u001b[0mself\u001b[0m\u001b[0;34m.\u001b[0m\u001b[0mquote\u001b[0m \u001b[0;34m=\u001b[0m \u001b[0mself\u001b[0m\u001b[0;34m.\u001b[0m\u001b[0mapi\u001b[0m\u001b[0;34m.\u001b[0m\u001b[0mget_quote\u001b[0m\u001b[0;34m(\u001b[0m\u001b[0mself\u001b[0m\u001b[0;34m.\u001b[0m\u001b[0msymbol\u001b[0m\u001b[0;34m)\u001b[0m\u001b[0;34m\u001b[0m\u001b[0;34m\u001b[0m\u001b[0m\n\u001b[1;32m     22\u001b[0m         \u001b[0;31m# 由于ATR是路径依赖函数，因此使用更长的数据序列进行计算以便使其值稳定下来\u001b[0m\u001b[0;34m\u001b[0m\u001b[0;34m\u001b[0m\u001b[0;34m\u001b[0m\u001b[0m\n",
      "\u001b[0;32m~/anaconda3/envs/py36/lib/python3.6/site-packages/tqsdk/api.py\u001b[0m in \u001b[0;36m__init__\u001b[0;34m(self, account, auth, url, backtest, web_gui, debug, loop, _stock, _ins_url, _md_url, _td_url)\u001b[0m\n\u001b[1;32m    228\u001b[0m                     \u001b[0;32mraise\u001b[0m \u001b[0mException\u001b[0m\u001b[0;34m(\u001b[0m\u001b[0;34m\"接收数据超时，请检查客户端及网络是否正常\"\u001b[0m\u001b[0;34m)\u001b[0m\u001b[0;34m\u001b[0m\u001b[0;34m\u001b[0m\u001b[0m\n\u001b[1;32m    229\u001b[0m         \u001b[0;32mexcept\u001b[0m\u001b[0;34m:\u001b[0m\u001b[0;34m\u001b[0m\u001b[0;34m\u001b[0m\u001b[0m\n\u001b[0;32m--> 230\u001b[0;31m             \u001b[0mself\u001b[0m\u001b[0;34m.\u001b[0m\u001b[0mclose\u001b[0m\u001b[0;34m(\u001b[0m\u001b[0;34m)\u001b[0m\u001b[0;34m\u001b[0m\u001b[0;34m\u001b[0m\u001b[0m\n\u001b[0m\u001b[1;32m    231\u001b[0m             \u001b[0;32mraise\u001b[0m\u001b[0;34m\u001b[0m\u001b[0;34m\u001b[0m\u001b[0m\n\u001b[1;32m    232\u001b[0m         \u001b[0;31m# 使用非空list,使得wait_update()能正确发送peek_message; 使用空dict, 使得is_changing()返回false, 因为截面数据不算做更新数据.\u001b[0m\u001b[0;34m\u001b[0m\u001b[0;34m\u001b[0m\u001b[0;34m\u001b[0m\u001b[0m\n",
      "\u001b[0;32m~/anaconda3/envs/py36/lib/python3.6/site-packages/tqsdk/api.py\u001b[0m in \u001b[0;36mclose\u001b[0;34m(self)\u001b[0m\n\u001b[1;32m    267\u001b[0m         \u001b[0;32melif\u001b[0m \u001b[0masyncio\u001b[0m\u001b[0;34m.\u001b[0m\u001b[0m_get_running_loop\u001b[0m\u001b[0;34m(\u001b[0m\u001b[0;34m)\u001b[0m\u001b[0;34m:\u001b[0m\u001b[0;34m\u001b[0m\u001b[0;34m\u001b[0m\u001b[0m\n\u001b[1;32m    268\u001b[0m             raise Exception(\n\u001b[0;32m--> 269\u001b[0;31m                 \"TqSdk 使用了 python3 的原生协程和异步通讯库 asyncio，您所使用的 IDE 不支持 asyncio, 请使用 pycharm 或其它支持 asyncio 的 IDE\")\n\u001b[0m\u001b[1;32m    270\u001b[0m \u001b[0;34m\u001b[0m\u001b[0m\n\u001b[1;32m    271\u001b[0m         \u001b[0;31m# 总会发送 serial_extra_array 数据，由 TqWebHelper 处理\u001b[0m\u001b[0;34m\u001b[0m\u001b[0;34m\u001b[0m\u001b[0;34m\u001b[0m\u001b[0m\n",
      "\u001b[0;31mException\u001b[0m: TqSdk 使用了 python3 的原生协程和异步通讯库 asyncio，您所使用的 IDE 不支持 asyncio, 请使用 pycharm 或其它支持 asyncio 的 IDE"
     ]
    }
   ],
   "source": [
    "turtle = Turtle(\"SHFE.au2006\")"
   ]
  },
  {
   "cell_type": "code",
   "execution_count": null,
   "metadata": {},
   "outputs": [],
   "source": [
    "\n",
    "print(\"策略开始运行\")\n",
    "try:\n",
    "    turtle.state = json.load(open(\"turtle_state.json\", \"r\"))  # 读取数据: 本策略目标净持仓数,上一次开仓价\n",
    "except FileNotFoundError:\n",
    "    pass\n",
    "print(\"当前持仓数: %d, 上次调仓价: %f\" % (turtle.state[\"position\"], turtle.state[\"last_price\"]))\n",
    "try:\n",
    "    turtle.strategy()\n",
    "finally:\n",
    "    turtle.api.close()\n",
    "    json.dump(turtle.state, open(\"turtle_state.json\", \"w\"))  # 保存数据"
   ]
  },
  {
   "cell_type": "markdown",
   "metadata": {},
   "source": [
    "# 获取数据"
   ]
  },
  {
   "cell_type": "code",
   "execution_count": 9,
   "metadata": {},
   "outputs": [
    {
     "ename": "Exception",
     "evalue": "TqSdk 使用了 python3 的原生协程和异步通讯库 asyncio，您所使用的 IDE 不支持 asyncio, 请使用 pycharm 或其它支持 asyncio 的 IDE",
     "output_type": "error",
     "traceback": [
      "\u001b[0;31m---------------------------------------------------------------------------\u001b[0m",
      "\u001b[0;31mException\u001b[0m                                 Traceback (most recent call last)",
      "\u001b[0;32m~/anaconda3/envs/py36/lib/python3.6/site-packages/tqsdk/api.py\u001b[0m in \u001b[0;36m__init__\u001b[0;34m(self, account, auth, url, backtest, web_gui, debug, loop, _stock, _ins_url, _md_url, _td_url)\u001b[0m\n\u001b[1;32m    226\u001b[0m                     \u001b[0;32mor\u001b[0m \u001b[0mself\u001b[0m\u001b[0;34m.\u001b[0m\u001b[0m_data\u001b[0m\u001b[0;34m.\u001b[0m\u001b[0mget\u001b[0m\u001b[0;34m(\u001b[0m\u001b[0;34m\"trade\"\u001b[0m\u001b[0;34m,\u001b[0m \u001b[0;34m{\u001b[0m\u001b[0;34m}\u001b[0m\u001b[0;34m)\u001b[0m\u001b[0;34m.\u001b[0m\u001b[0mget\u001b[0m\u001b[0;34m(\u001b[0m\u001b[0mself\u001b[0m\u001b[0;34m.\u001b[0m\u001b[0m_account\u001b[0m\u001b[0;34m.\u001b[0m\u001b[0m_account_id\u001b[0m\u001b[0;34m,\u001b[0m \u001b[0;34m{\u001b[0m\u001b[0;34m}\u001b[0m\u001b[0;34m)\u001b[0m\u001b[0;34m.\u001b[0m\u001b[0mget\u001b[0m\u001b[0;34m(\u001b[0m\u001b[0;34m\"trade_more_data\"\u001b[0m\u001b[0;34m,\u001b[0m \u001b[0;32mTrue\u001b[0m\u001b[0;34m)\u001b[0m\u001b[0;34m:\u001b[0m\u001b[0;34m\u001b[0m\u001b[0;34m\u001b[0m\u001b[0m\n\u001b[0;32m--> 227\u001b[0;31m                 \u001b[0;32mif\u001b[0m \u001b[0;32mnot\u001b[0m \u001b[0mself\u001b[0m\u001b[0;34m.\u001b[0m\u001b[0mwait_update\u001b[0m\u001b[0;34m(\u001b[0m\u001b[0mdeadline\u001b[0m\u001b[0;34m=\u001b[0m\u001b[0mdeadline\u001b[0m\u001b[0;34m)\u001b[0m\u001b[0;34m:\u001b[0m  \u001b[0;31m# 等待连接成功并收取截面数据\u001b[0m\u001b[0;34m\u001b[0m\u001b[0;34m\u001b[0m\u001b[0m\n\u001b[0m\u001b[1;32m    228\u001b[0m                     \u001b[0;32mraise\u001b[0m \u001b[0mException\u001b[0m\u001b[0;34m(\u001b[0m\u001b[0;34m\"接收数据超时，请检查客户端及网络是否正常\"\u001b[0m\u001b[0;34m)\u001b[0m\u001b[0;34m\u001b[0m\u001b[0;34m\u001b[0m\u001b[0m\n",
      "\u001b[0;32m~/anaconda3/envs/py36/lib/python3.6/site-packages/tqsdk/api.py\u001b[0m in \u001b[0;36mwait_update\u001b[0;34m(self, deadline)\u001b[0m\n\u001b[1;32m    861\u001b[0m             raise Exception(\n\u001b[0;32m--> 862\u001b[0;31m                 \"TqSdk 使用了 python3 的原生协程和异步通讯库 asyncio，您所使用的 IDE 不支持 asyncio, 请使用 pycharm 或其它支持 asyncio 的 IDE\")\n\u001b[0m\u001b[1;32m    863\u001b[0m         \u001b[0mself\u001b[0m\u001b[0;34m.\u001b[0m\u001b[0m_wait_timeout\u001b[0m \u001b[0;34m=\u001b[0m \u001b[0;32mFalse\u001b[0m\u001b[0;34m\u001b[0m\u001b[0;34m\u001b[0m\u001b[0m\n",
      "\u001b[0;31mException\u001b[0m: TqSdk 使用了 python3 的原生协程和异步通讯库 asyncio，您所使用的 IDE 不支持 asyncio, 请使用 pycharm 或其它支持 asyncio 的 IDE",
      "\nDuring handling of the above exception, another exception occurred:\n",
      "\u001b[0;31mException\u001b[0m                                 Traceback (most recent call last)",
      "\u001b[0;32m<ipython-input-9-ee11608dd60c>\u001b[0m in \u001b[0;36m<module>\u001b[0;34m\u001b[0m\n\u001b[0;32m----> 1\u001b[0;31m \u001b[0mapi\u001b[0m \u001b[0;34m=\u001b[0m \u001b[0mTqApi\u001b[0m\u001b[0;34m(\u001b[0m\u001b[0;34m)\u001b[0m\u001b[0;34m\u001b[0m\u001b[0;34m\u001b[0m\u001b[0m\n\u001b[0m\u001b[1;32m      2\u001b[0m \u001b[0mklines\u001b[0m \u001b[0;34m=\u001b[0m \u001b[0mapi\u001b[0m\u001b[0;34m.\u001b[0m\u001b[0mget_kline_serial\u001b[0m\u001b[0;34m(\u001b[0m\u001b[0;34m\"SHFE.cu2002\"\u001b[0m\u001b[0;34m,\u001b[0m \u001b[0;36m10\u001b[0m\u001b[0;34m)\u001b[0m\u001b[0;34m\u001b[0m\u001b[0;34m\u001b[0m\u001b[0m\n",
      "\u001b[0;32m~/anaconda3/envs/py36/lib/python3.6/site-packages/tqsdk/api.py\u001b[0m in \u001b[0;36m__init__\u001b[0;34m(self, account, auth, url, backtest, web_gui, debug, loop, _stock, _ins_url, _md_url, _td_url)\u001b[0m\n\u001b[1;32m    228\u001b[0m                     \u001b[0;32mraise\u001b[0m \u001b[0mException\u001b[0m\u001b[0;34m(\u001b[0m\u001b[0;34m\"接收数据超时，请检查客户端及网络是否正常\"\u001b[0m\u001b[0;34m)\u001b[0m\u001b[0;34m\u001b[0m\u001b[0;34m\u001b[0m\u001b[0m\n\u001b[1;32m    229\u001b[0m         \u001b[0;32mexcept\u001b[0m\u001b[0;34m:\u001b[0m\u001b[0;34m\u001b[0m\u001b[0;34m\u001b[0m\u001b[0m\n\u001b[0;32m--> 230\u001b[0;31m             \u001b[0mself\u001b[0m\u001b[0;34m.\u001b[0m\u001b[0mclose\u001b[0m\u001b[0;34m(\u001b[0m\u001b[0;34m)\u001b[0m\u001b[0;34m\u001b[0m\u001b[0;34m\u001b[0m\u001b[0m\n\u001b[0m\u001b[1;32m    231\u001b[0m             \u001b[0;32mraise\u001b[0m\u001b[0;34m\u001b[0m\u001b[0;34m\u001b[0m\u001b[0m\n\u001b[1;32m    232\u001b[0m         \u001b[0;31m# 使用非空list,使得wait_update()能正确发送peek_message; 使用空dict, 使得is_changing()返回false, 因为截面数据不算做更新数据.\u001b[0m\u001b[0;34m\u001b[0m\u001b[0;34m\u001b[0m\u001b[0;34m\u001b[0m\u001b[0m\n",
      "\u001b[0;32m~/anaconda3/envs/py36/lib/python3.6/site-packages/tqsdk/api.py\u001b[0m in \u001b[0;36mclose\u001b[0;34m(self)\u001b[0m\n\u001b[1;32m    267\u001b[0m         \u001b[0;32melif\u001b[0m \u001b[0masyncio\u001b[0m\u001b[0;34m.\u001b[0m\u001b[0m_get_running_loop\u001b[0m\u001b[0;34m(\u001b[0m\u001b[0;34m)\u001b[0m\u001b[0;34m:\u001b[0m\u001b[0;34m\u001b[0m\u001b[0;34m\u001b[0m\u001b[0m\n\u001b[1;32m    268\u001b[0m             raise Exception(\n\u001b[0;32m--> 269\u001b[0;31m                 \"TqSdk 使用了 python3 的原生协程和异步通讯库 asyncio，您所使用的 IDE 不支持 asyncio, 请使用 pycharm 或其它支持 asyncio 的 IDE\")\n\u001b[0m\u001b[1;32m    270\u001b[0m \u001b[0;34m\u001b[0m\u001b[0m\n\u001b[1;32m    271\u001b[0m         \u001b[0;31m# 总会发送 serial_extra_array 数据，由 TqWebHelper 处理\u001b[0m\u001b[0;34m\u001b[0m\u001b[0;34m\u001b[0m\u001b[0;34m\u001b[0m\u001b[0m\n",
      "\u001b[0;31mException\u001b[0m: TqSdk 使用了 python3 的原生协程和异步通讯库 asyncio，您所使用的 IDE 不支持 asyncio, 请使用 pycharm 或其它支持 asyncio 的 IDE"
     ]
    }
   ],
   "source": [
    "api = TqApi()\n",
    "klines = api.get_kline_serial(\"SHFE.cu2002\", 10)"
   ]
  },
  {
   "cell_type": "code",
   "execution_count": null,
   "metadata": {},
   "outputs": [],
   "source": []
  }
 ],
 "metadata": {
  "kernelspec": {
   "display_name": "Python 3",
   "language": "python",
   "name": "python3"
  },
  "language_info": {
   "codemirror_mode": {
    "name": "ipython",
    "version": 3
   },
   "file_extension": ".py",
   "mimetype": "text/x-python",
   "name": "python",
   "nbconvert_exporter": "python",
   "pygments_lexer": "ipython3",
   "version": "3.6.10"
  }
 },
 "nbformat": 4,
 "nbformat_minor": 4
}
