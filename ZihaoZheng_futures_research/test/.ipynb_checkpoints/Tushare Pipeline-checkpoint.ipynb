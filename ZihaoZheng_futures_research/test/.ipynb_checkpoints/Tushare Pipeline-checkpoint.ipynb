{
 "cells": [
  {
   "cell_type": "code",
   "execution_count": 1,
   "metadata": {},
   "outputs": [
    {
     "name": "stdout",
     "output_type": "stream",
     "text": [
      "tushare version:1.2.54\n"
     ]
    }
   ],
   "source": [
    "import tushare as ts\n",
    "print(f\"tushare version:{ts.__version__}\")\n",
    "token = \"8ef5ec61cdd848715c57c11d58dd71da1271f76b2420d2bac8aef123\"\n",
    "import matplotlib.pyplot as plt\n",
    "plt.rcParams['font.sans-serif'] = ['SimHei']\n",
    "plt.rcParams['axes.unicode_minus'] = False\n",
    "import pandas as pd\n",
    "import numpy  as np\n",
    "import random"
   ]
  },
  {
   "cell_type": "code",
   "execution_count": 2,
   "metadata": {},
   "outputs": [],
   "source": [
    "class TushareData(object):\n",
    "    def __init__(self, exchange, token):\n",
    "        self.exchange = exchange\n",
    "        self.pro = ts.pro_api(token)\n",
    "        self.ml_ts_codes = None\n",
    "        self.all_ts_codes =None\n",
    "    def getData(self, start_date = None, end_date =None):\n",
    "        self._getSymbols()\n",
    "        self._getOHLC(start_date, end_date)\n",
    "        self._getTFMR(start_date, end_date)\n",
    "        if self.TFMR_all.empty:\n",
    "            ALL = self.Symbols_all.merge(self.OHLC_all, on ='ts_code')\n",
    "        else:\n",
    "            ALL = self.Symbols_all.merge(self.OHLC_all, on ='ts_code').merge(self.TFMR_all, on = 'ts_code')\n",
    "        if self.TFMR_ml.empty:\n",
    "            ML = self.Symbols_ml.merge(self.OHLC_ml, on = 'ts_code')\n",
    "        else:\n",
    "            ML = self.Symbols_ml.merge(self.OHLC_ml, on = 'ts_code').merge(self.TFMR_ml, on = 'ts_code')\n",
    "        return ML, ALL\n",
    "        \n",
    "    def _getSymbols(self):\n",
    "        \"\"\"\n",
    "        Process the name and symbols\n",
    "        \"\"\"\n",
    "        mc_ml = self.pro.fut_basic(exchange=self.exchange, fut_type='2', fields='ts_code,symbol,name,list_date,delist_date')\n",
    "        mc_ml.name = mc_ml.name.str[:-4]\n",
    "        \n",
    "\n",
    "        mc_ord = self.pro.fut_basic(exchange=self.exchange, fut_type = '1', fields='ts_code,symbol,name,list_date,delist_date')\n",
    "        mc_ord.name = mc_ord.name.str[:-4]\n",
    "        \n",
    "        mcs = [mc_ml, mc_ord]\n",
    "        for mc in mcs:\n",
    "            mc.loc[mc.loc[mc.name =='螺纹'].index, 'name'] = '螺纹钢'\n",
    "            mc.loc[mc.loc[mc.name =='燃油'].index, 'name'] = '燃料油'\n",
    "            if self.exchange.upper() == 'SHFE':\n",
    "                mc.loc[mc.loc[mc.name =='沪金'].index, 'name'] = '黄金'\n",
    "                mc.loc[mc.loc[mc.name =='沪镍'].index, 'name'] = '镍'\n",
    "                mc.loc[mc.loc[mc.name =='沪锡'].index, 'name'] = '锡'\n",
    "                mc.loc[mc.loc[mc.name =='沪铜'].index, 'name'] = '铜'\n",
    "                mc.loc[mc.loc[mc.name =='沪铜'].index, 'name'] = '铜'\n",
    "                mc.loc[mc.loc[mc.name =='沪银'].index, 'name'] = '银'\n",
    "                mc.loc[mc.loc[mc.name =='沪铝'].index, 'name'] = '铝'\n",
    "                mc.loc[mc.loc[mc.name =='沪锌'].index, 'name'] = '锌'\n",
    "                mc.loc[mc.loc[mc.name =='沪铅'].index, 'name'] = '铅'\n",
    "            elif self.exchange.upper() == 'DCE':\n",
    "                pass\n",
    "            elif self.exchange.upper() == 'INE':\n",
    "                pass\n",
    "            elif self.exchange.upper() == 'CFFEX':\n",
    "                pass\n",
    "            elif self.exchange.upper() == 'CZCE':\n",
    "                pass\n",
    "        ## 主力连续\n",
    "        self.Symbols_ml = mc_ml.iloc[:,:-2]\n",
    "        self.ml_ts_codes = list(self.Symbols_ml.ts_code.unique())\n",
    "        ## 普通合约\n",
    "        self.Symbols_ord = mc.iloc[:,:-2]\n",
    "        self.ord_ts_codes = list(self.Symbols_ord.ts_code.unique())\n",
    "        ## 全部合约\n",
    "        self.all_ts_codes = self.ord_ts_codes + self.ml_ts_codes\n",
    "        self.Symbols_all = pd.concat([self.Symbols_ord, self.Symbols_ml])\n",
    "            \n",
    "    def _getOHLC(self, start_date = None, end_date =None):\n",
    "        \"\"\"\n",
    "        get Open, High, Low, Close\n",
    "        \"\"\"\n",
    "        if not start_date or not end_date:\n",
    "            print(\"Missed time data, format:'yyyymmdd'\")\n",
    "            return\n",
    "        cols = self.pro.fut_daily(ts_code = \"CU.SHF\", start_date =\"20180101\", end_date =\"20180101\" ).columns\n",
    "        \n",
    "        ## 主力连续合约\n",
    "        ml_OHLC = pd.DataFrame(columns = cols)\n",
    "        for ts_c in self.ml_ts_codes:\n",
    "            daily = self.pro.fut_daily(ts_code = ts_c, start_date = start_date, end_date = end_date)\n",
    "            ml_OHLC = pd.concat([ml_OHLC, daily])\n",
    "            if len(daily):\n",
    "                print(f\"Successfully get {ts_c} data! -- {len(daily)} rows\", end = \" / \")\n",
    "                continue\n",
    "            print(\"XXXX\", end = \" / \")\n",
    "\n",
    "        ml_OHLC.reset_index(drop = True, inplace = True)\n",
    "        self.OHLC_ml = ml_OHLC.drop(columns = ['pre_close','pre_settle',\"change1\",\"change2\",\"oi\",\"oi_chg\"])\n",
    "        self.OHLC_ml.amount *= 10000\n",
    "        self.OHLC_ml.dropna().reset_index(drop = True)\n",
    "        \n",
    "        ## 全部合约\n",
    "        all_OHLC = pd.DataFrame(columns = cols)\n",
    "        for ts_c in self.all_ts_codes[-100]:\n",
    "            daily = self.pro.fut_daily(ts_code = ts_c, start_date = start_date, end_date = end_date)\n",
    "            all_OHLC = pd.concat([all_OHLC, daily])\n",
    "            if len(daily):\n",
    "                print(f\"Successfully get {ts_c} data! -- {len(daily)} rows\", end = \" / \")\n",
    "                continue\n",
    "            print(\"XXXX\", end = \" / \")\n",
    "\n",
    "        all_OHLC.reset_index(drop = True, inplace = True)\n",
    "        self.OHLC_all = all_OHLC.drop(columns = ['pre_close','pre_settle',\"change1\",\"change2\",\"oi\",\"oi_chg\"])\n",
    "        self.OHLC_all.amount *= 10000\n",
    "        self.OHLC_all.dropna().reset_index(drop = True)\n",
    "        return\n",
    "    \n",
    "    def _getTFMR(self,start_date = None, end_date = None):\n",
    "        \"\"\"\n",
    "        get Trade Fees and Margin Rate\n",
    "        \"\"\"\n",
    "        all_settle = self.pro.fut_settle(start_date = start_date, end_date = end_date, exchange = self.exchange)\n",
    "        drop_ind_ml = []\n",
    "        drop_ind_all =[]\n",
    "        ### 记录主力连续与全部合约的有效数据\n",
    "        for index, row in all_settle.iterrows():\n",
    "            if row.ts_code in self.ord_ts_codes:\n",
    "                drop_ind_ml.append(index)\n",
    "            elif row.ts_code not in self.all_ts_codes:\n",
    "                drop_ind_all.append(index)\n",
    "        print(f\"Among all {len(all_settle)} data, {len(drop_ind_ml)} will be removed for '主力连续合约' and {len(drop_ind_all)} will be removed for '全部合约'\")\n",
    "        \n",
    "        ## 主力连续合约\n",
    "        ml = all_settle.drop(drop_ind_ml) \\\n",
    "                              .reset_index(drop = True) \\\n",
    "                              .drop(columns = ['trading_fee_rate', 'delivery_fee'])\n",
    "        ml['margin_rate'] = 100*0.25*(ml.b_hedging_margin_rate \n",
    "                                    + ml.s_hedging_margin_rate \n",
    "                                    + ml.long_margin_rate \n",
    "                                    + ml.short_margin_rate)\n",
    "\n",
    "        ml = ml.drop(columns = ['b_hedging_margin_rate', 's_hedging_margin_rate', 'long_margin_rate', 'short_margin_rate'])\n",
    "        self.TFMR_ml = ml\n",
    "        ## 全部合约\n",
    "        ml = all_settle.drop(drop_ind_all) \\\n",
    "                              .reset_index(drop = True) \\\n",
    "                              .drop(columns = ['trading_fee_rate', 'delivery_fee'])\n",
    "        ml['margin_rate'] = 100*0.25*(ml.b_hedging_margin_rate \n",
    "                                    + ml.s_hedging_margin_rate \n",
    "                                    + ml.long_margin_rate \n",
    "                                    + ml.short_margin_rate)\n",
    "\n",
    "        ml = ml.drop(columns = ['b_hedging_margin_rate', 's_hedging_margin_rate', 'long_margin_rate', 'short_margin_rate'])\n",
    "        self.TFMR_all = ml\n",
    "    "
   ]
  },
  {
   "cell_type": "code",
   "execution_count": 3,
   "metadata": {},
   "outputs": [
    {
     "name": "stdout",
     "output_type": "stream",
     "text": [
      "XXXX / Successfully get AUL.SHF data! -- 243 rows / Successfully get AL.SHF data! -- 243 rows / Successfully get SNL.SHF data! -- 243 rows / Successfully get CU.SHF data! -- 243 rows / Successfully get ZN.SHF data! -- 243 rows / Successfully get AG.SHF data! -- 243 rows / Successfully get RB.SHF data! -- 243 rows / Successfully get BUL.SHF data! -- 243 rows / Successfully get SN.SHF data! -- 243 rows / Successfully get FUL.SHF data! -- 230 rows / Successfully get AGL.SHF data! -- 243 rows / Successfully get NI.SHF data! -- 243 rows / Successfully get HCL.SHF data! -- 243 rows / Successfully get PBL.SHF data! -- 243 rows / Successfully get WR.SHF data! -- 218 rows / Successfully get NIL.SHF data! -- 243 rows / Successfully get RBL.SHF data! -- 243 rows / Successfully get CUL.SHF data! -- 243 rows / Successfully get FU.SHF data! -- 230 rows / Successfully get AU.SHF data! -- 243 rows / Successfully get ALL.SHF data! -- 243 rows / Successfully get PB.SHF data! -- 243 rows / Successfully get ZNL.SHF data! -- 243 rows / Successfully get WRL.SHF data! -- 218 rows / Successfully get RU.SHF data! -- 243 rows / Successfully get RUL.SHF data! -- 243 rows / Successfully get HC.SHF data! -- 243 rows / Successfully get BU.SHF data! -- 243 rows / XXXX / Successfully get SP.SHF data! -- 24 rows / Successfully get SPL.SHF data! -- 24 rows / XXXX / XXXX / XXXX / XXXX / XXXX / XXXX / XXXX / XXXX / XXXX / XXXX / "
     ]
    },
    {
     "ename": "Exception",
     "evalue": "trade_date,ts_code不能都为空",
     "output_type": "error",
     "traceback": [
      "\u001b[0;31m---------------------------------------------------------------------------\u001b[0m",
      "\u001b[0;31mException\u001b[0m                                 Traceback (most recent call last)",
      "\u001b[0;32m<ipython-input-3-ab5260141b16>\u001b[0m in \u001b[0;36m<module>\u001b[0;34m\u001b[0m\n\u001b[1;32m      1\u001b[0m \u001b[0mt\u001b[0m \u001b[0;34m=\u001b[0m \u001b[0mTushareData\u001b[0m\u001b[0;34m(\u001b[0m\u001b[0mexchange\u001b[0m \u001b[0;34m=\u001b[0m \u001b[0;34m'SHFE'\u001b[0m\u001b[0;34m,\u001b[0m \u001b[0mtoken\u001b[0m \u001b[0;34m=\u001b[0m \u001b[0mtoken\u001b[0m\u001b[0;34m)\u001b[0m\u001b[0;34m\u001b[0m\u001b[0;34m\u001b[0m\u001b[0m\n\u001b[0;32m----> 2\u001b[0;31m \u001b[0mSHFE_ml\u001b[0m\u001b[0;34m,\u001b[0m \u001b[0mSHFE_all\u001b[0m \u001b[0;34m=\u001b[0m \u001b[0mt\u001b[0m\u001b[0;34m.\u001b[0m\u001b[0mgetData\u001b[0m\u001b[0;34m(\u001b[0m\u001b[0;34m\"20180101\"\u001b[0m\u001b[0;34m,\u001b[0m \u001b[0;34m\"20181231\"\u001b[0m\u001b[0;34m)\u001b[0m\u001b[0;34m\u001b[0m\u001b[0;34m\u001b[0m\u001b[0m\n\u001b[0m",
      "\u001b[0;32m<ipython-input-2-52e53f77d7a3>\u001b[0m in \u001b[0;36mgetData\u001b[0;34m(self, start_date, end_date)\u001b[0m\n\u001b[1;32m      8\u001b[0m         \u001b[0mself\u001b[0m\u001b[0;34m.\u001b[0m\u001b[0m_getSymbols\u001b[0m\u001b[0;34m(\u001b[0m\u001b[0;34m)\u001b[0m\u001b[0;34m\u001b[0m\u001b[0;34m\u001b[0m\u001b[0m\n\u001b[1;32m      9\u001b[0m         \u001b[0mself\u001b[0m\u001b[0;34m.\u001b[0m\u001b[0m_getOHLC\u001b[0m\u001b[0;34m(\u001b[0m\u001b[0mstart_date\u001b[0m\u001b[0;34m,\u001b[0m \u001b[0mend_date\u001b[0m\u001b[0;34m)\u001b[0m\u001b[0;34m\u001b[0m\u001b[0;34m\u001b[0m\u001b[0m\n\u001b[0;32m---> 10\u001b[0;31m         \u001b[0mself\u001b[0m\u001b[0;34m.\u001b[0m\u001b[0m_getTFMR\u001b[0m\u001b[0;34m(\u001b[0m\u001b[0mstart_date\u001b[0m\u001b[0;34m,\u001b[0m \u001b[0mend_date\u001b[0m\u001b[0;34m)\u001b[0m\u001b[0;34m\u001b[0m\u001b[0;34m\u001b[0m\u001b[0m\n\u001b[0m\u001b[1;32m     11\u001b[0m         \u001b[0;32mif\u001b[0m \u001b[0mself\u001b[0m\u001b[0;34m.\u001b[0m\u001b[0mTFMR_all\u001b[0m\u001b[0;34m.\u001b[0m\u001b[0mempty\u001b[0m\u001b[0;34m:\u001b[0m\u001b[0;34m\u001b[0m\u001b[0;34m\u001b[0m\u001b[0m\n\u001b[1;32m     12\u001b[0m             \u001b[0mALL\u001b[0m \u001b[0;34m=\u001b[0m \u001b[0mself\u001b[0m\u001b[0;34m.\u001b[0m\u001b[0mSymbols_all\u001b[0m\u001b[0;34m.\u001b[0m\u001b[0mmerge\u001b[0m\u001b[0;34m(\u001b[0m\u001b[0mself\u001b[0m\u001b[0;34m.\u001b[0m\u001b[0mOHLC_all\u001b[0m\u001b[0;34m,\u001b[0m \u001b[0mon\u001b[0m \u001b[0;34m=\u001b[0m\u001b[0;34m'ts_code'\u001b[0m\u001b[0;34m)\u001b[0m\u001b[0;34m\u001b[0m\u001b[0;34m\u001b[0m\u001b[0m\n",
      "\u001b[0;32m<ipython-input-2-52e53f77d7a3>\u001b[0m in \u001b[0;36m_getTFMR\u001b[0;34m(self, start_date, end_date)\u001b[0m\n\u001b[1;32m    106\u001b[0m         \u001b[0mget\u001b[0m \u001b[0mTrade\u001b[0m \u001b[0mFees\u001b[0m \u001b[0;32mand\u001b[0m \u001b[0mMargin\u001b[0m \u001b[0mRate\u001b[0m\u001b[0;34m\u001b[0m\u001b[0;34m\u001b[0m\u001b[0m\n\u001b[1;32m    107\u001b[0m         \"\"\"\n\u001b[0;32m--> 108\u001b[0;31m         \u001b[0mall_settle\u001b[0m \u001b[0;34m=\u001b[0m \u001b[0mself\u001b[0m\u001b[0;34m.\u001b[0m\u001b[0mpro\u001b[0m\u001b[0;34m.\u001b[0m\u001b[0mfut_settle\u001b[0m\u001b[0;34m(\u001b[0m\u001b[0mstart_date\u001b[0m \u001b[0;34m=\u001b[0m \u001b[0mstart_date\u001b[0m\u001b[0;34m,\u001b[0m \u001b[0mend_date\u001b[0m \u001b[0;34m=\u001b[0m \u001b[0mend_date\u001b[0m\u001b[0;34m,\u001b[0m \u001b[0mexchange\u001b[0m \u001b[0;34m=\u001b[0m \u001b[0mself\u001b[0m\u001b[0;34m.\u001b[0m\u001b[0mexchange\u001b[0m\u001b[0;34m)\u001b[0m\u001b[0;34m\u001b[0m\u001b[0;34m\u001b[0m\u001b[0m\n\u001b[0m\u001b[1;32m    109\u001b[0m         \u001b[0mdrop_ind_ml\u001b[0m \u001b[0;34m=\u001b[0m \u001b[0;34m[\u001b[0m\u001b[0;34m]\u001b[0m\u001b[0;34m\u001b[0m\u001b[0;34m\u001b[0m\u001b[0m\n\u001b[1;32m    110\u001b[0m         \u001b[0mdrop_ind_all\u001b[0m \u001b[0;34m=\u001b[0m\u001b[0;34m[\u001b[0m\u001b[0;34m]\u001b[0m\u001b[0;34m\u001b[0m\u001b[0;34m\u001b[0m\u001b[0m\n",
      "\u001b[0;32m~/anaconda3/envs/py36/lib/python3.6/site-packages/tushare/pro/client.py\u001b[0m in \u001b[0;36mquery\u001b[0;34m(self, api_name, fields, **kwargs)\u001b[0m\n\u001b[1;32m     42\u001b[0m             \u001b[0mresult\u001b[0m \u001b[0;34m=\u001b[0m \u001b[0mjson\u001b[0m\u001b[0;34m.\u001b[0m\u001b[0mloads\u001b[0m\u001b[0;34m(\u001b[0m\u001b[0mres\u001b[0m\u001b[0;34m.\u001b[0m\u001b[0mtext\u001b[0m\u001b[0;34m)\u001b[0m\u001b[0;34m\u001b[0m\u001b[0;34m\u001b[0m\u001b[0m\n\u001b[1;32m     43\u001b[0m             \u001b[0;32mif\u001b[0m \u001b[0mresult\u001b[0m\u001b[0;34m[\u001b[0m\u001b[0;34m'code'\u001b[0m\u001b[0;34m]\u001b[0m \u001b[0;34m!=\u001b[0m \u001b[0;36m0\u001b[0m\u001b[0;34m:\u001b[0m\u001b[0;34m\u001b[0m\u001b[0;34m\u001b[0m\u001b[0m\n\u001b[0;32m---> 44\u001b[0;31m                 \u001b[0;32mraise\u001b[0m \u001b[0mException\u001b[0m\u001b[0;34m(\u001b[0m\u001b[0mresult\u001b[0m\u001b[0;34m[\u001b[0m\u001b[0;34m'msg'\u001b[0m\u001b[0;34m]\u001b[0m\u001b[0;34m)\u001b[0m\u001b[0;34m\u001b[0m\u001b[0;34m\u001b[0m\u001b[0m\n\u001b[0m\u001b[1;32m     45\u001b[0m             \u001b[0mdata\u001b[0m \u001b[0;34m=\u001b[0m \u001b[0mresult\u001b[0m\u001b[0;34m[\u001b[0m\u001b[0;34m'data'\u001b[0m\u001b[0;34m]\u001b[0m\u001b[0;34m\u001b[0m\u001b[0;34m\u001b[0m\u001b[0m\n\u001b[1;32m     46\u001b[0m             \u001b[0mcolumns\u001b[0m \u001b[0;34m=\u001b[0m \u001b[0mdata\u001b[0m\u001b[0;34m[\u001b[0m\u001b[0;34m'fields'\u001b[0m\u001b[0;34m]\u001b[0m\u001b[0;34m\u001b[0m\u001b[0;34m\u001b[0m\u001b[0m\n",
      "\u001b[0;31mException\u001b[0m: trade_date,ts_code不能都为空"
     ]
    }
   ],
   "source": [
    "t = TushareData(exchange = 'SHFE', token = token)\n",
    "SHFE_ml, SHFE_all = t.getData(\"20180101\", \"20181231\")"
   ]
  },
  {
   "cell_type": "code",
   "execution_count": 5,
   "metadata": {},
   "outputs": [
    {
     "ename": "NameError",
     "evalue": "name 'SHFE_ml' is not defined",
     "output_type": "error",
     "traceback": [
      "\u001b[0;31m---------------------------------------------------------------------------\u001b[0m",
      "\u001b[0;31mNameError\u001b[0m                                 Traceback (most recent call last)",
      "\u001b[0;32m<ipython-input-5-121bf0c743a9>\u001b[0m in \u001b[0;36m<module>\u001b[0;34m\u001b[0m\n\u001b[0;32m----> 1\u001b[0;31m \u001b[0mSHFE_ml\u001b[0m\u001b[0;34m\u001b[0m\u001b[0;34m\u001b[0m\u001b[0m\n\u001b[0m",
      "\u001b[0;31mNameError\u001b[0m: name 'SHFE_ml' is not defined"
     ]
    }
   ],
   "source": [
    "SHFE_ml"
   ]
  },
  {
   "cell_type": "code",
   "execution_count": 15,
   "metadata": {},
   "outputs": [
    {
     "data": {
      "text/html": [
       "<div>\n",
       "<style scoped>\n",
       "    .dataframe tbody tr th:only-of-type {\n",
       "        vertical-align: middle;\n",
       "    }\n",
       "\n",
       "    .dataframe tbody tr th {\n",
       "        vertical-align: top;\n",
       "    }\n",
       "\n",
       "    .dataframe thead th {\n",
       "        text-align: right;\n",
       "    }\n",
       "</style>\n",
       "<table border=\"1\" class=\"dataframe\">\n",
       "  <thead>\n",
       "    <tr style=\"text-align: right;\">\n",
       "      <th></th>\n",
       "      <th>symbol</th>\n",
       "      <th>name</th>\n",
       "      <th>trade_date_x</th>\n",
       "      <th>open</th>\n",
       "      <th>high</th>\n",
       "      <th>low</th>\n",
       "      <th>close</th>\n",
       "      <th>settle_x</th>\n",
       "      <th>vol</th>\n",
       "      <th>amount</th>\n",
       "      <th>ts_code</th>\n",
       "      <th>trade_date_y</th>\n",
       "      <th>settle_y</th>\n",
       "      <th>trading_fee</th>\n",
       "      <th>margin_rate</th>\n",
       "    </tr>\n",
       "  </thead>\n",
       "  <tbody>\n",
       "  </tbody>\n",
       "</table>\n",
       "</div>"
      ],
      "text/plain": [
       "Empty DataFrame\n",
       "Columns: [symbol, name, trade_date_x, open, high, low, close, settle_x, vol, amount, ts_code, trade_date_y, settle_y, trading_fee, margin_rate]\n",
       "Index: []"
      ]
     },
     "execution_count": 15,
     "metadata": {},
     "output_type": "execute_result"
    }
   ],
   "source": [
    "SHFE_all"
   ]
  }
 ],
 "metadata": {
  "kernelspec": {
   "display_name": "Python 3",
   "language": "python",
   "name": "python3"
  },
  "language_info": {
   "codemirror_mode": {
    "name": "ipython",
    "version": 3
   },
   "file_extension": ".py",
   "mimetype": "text/x-python",
   "name": "python",
   "nbconvert_exporter": "python",
   "pygments_lexer": "ipython3",
   "version": "3.6.10"
  }
 },
 "nbformat": 4,
 "nbformat_minor": 4
}
